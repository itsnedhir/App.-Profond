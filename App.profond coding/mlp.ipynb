{
 "cells": [
  {
   "cell_type": "markdown",
   "metadata": {},
   "source": [
    "# TP Perceptron multicouche"
   ]
  },
  {
   "cell_type": "markdown",
   "metadata": {},
   "source": [
    "Objectifs du TP :\n",
    "– découvrir l’apprentissage par perceptron multi-couches\n",
    "– utiliser scikit-learn pour déterminer une architecture MLP performante pour un jeu de données"
   ]
  },
  {
   "cell_type": "markdown",
   "metadata": {},
   "source": [
    "### 1.1 MLP sous sklearn"
   ]
  },
  {
   "cell_type": "markdown",
   "metadata": {},
   "source": [
    "### 1.2 La classe MLPClassifier : mise en pratique"
   ]
  },
  {
   "cell_type": "markdown",
   "metadata": {},
   "source": [
    "Ce modèle optimise la fonction entropie croisée en utilisant le solveur LBFGS ou la descente de\n",
    "gradient stochastique ..."
   ]
  },
  {
   "cell_type": "markdown",
   "metadata": {},
   "source": [
    "### 1.2.1 Prise en main du modèle"
   ]
  },
  {
   "cell_type": "markdown",
   "metadata": {},
   "source": [
    "Soit le jeu de données S = {([0, 0], 0),([0, 1], 1)}. Nous cherchons à apprendre un modèle\n",
    "f(x) : R2 ! {0, 1} qui, à chaque exemple, associe une sortie booléenne. Créez ce jeu de\n",
    "données (X et y) en utilisant les tableaux de numpy\n"
   ]
  },
  {
   "cell_type": "code",
   "execution_count": 142,
   "metadata": {},
   "outputs": [],
   "source": [
    "X = [[0, 0], [0, 1]] \n",
    "y = [0, 1]"
   ]
  },
  {
   "cell_type": "markdown",
   "metadata": {},
   "source": [
    "Créez un modèle MLP de classification avec une couche cachée de 4 neurones : dessinez ce modèle sur feuille, créez le avec MLPClassifier, puis apprenez le avec S, et testez le avec les entrées [2.,2.], puis [-1.,-2.]."
   ]
  },
  {
   "cell_type": "code",
   "execution_count": 144,
   "metadata": {},
   "outputs": [],
   "source": [
    "from sklearn.neural_network import MLPClassifier\n",
    "\n",
    "clf = MLPClassifier(solver='lbfgs',hidden_layer_sizes = (4), activation='logistic',random_state =0) "
   ]
  },
  {
   "cell_type": "code",
   "execution_count": 145,
   "metadata": {},
   "outputs": [
    {
     "data": {
      "text/html": [
       "<style>#sk-container-id-7 {color: black;background-color: white;}#sk-container-id-7 pre{padding: 0;}#sk-container-id-7 div.sk-toggleable {background-color: white;}#sk-container-id-7 label.sk-toggleable__label {cursor: pointer;display: block;width: 100%;margin-bottom: 0;padding: 0.3em;box-sizing: border-box;text-align: center;}#sk-container-id-7 label.sk-toggleable__label-arrow:before {content: \"▸\";float: left;margin-right: 0.25em;color: #696969;}#sk-container-id-7 label.sk-toggleable__label-arrow:hover:before {color: black;}#sk-container-id-7 div.sk-estimator:hover label.sk-toggleable__label-arrow:before {color: black;}#sk-container-id-7 div.sk-toggleable__content {max-height: 0;max-width: 0;overflow: hidden;text-align: left;background-color: #f0f8ff;}#sk-container-id-7 div.sk-toggleable__content pre {margin: 0.2em;color: black;border-radius: 0.25em;background-color: #f0f8ff;}#sk-container-id-7 input.sk-toggleable__control:checked~div.sk-toggleable__content {max-height: 200px;max-width: 100%;overflow: auto;}#sk-container-id-7 input.sk-toggleable__control:checked~label.sk-toggleable__label-arrow:before {content: \"▾\";}#sk-container-id-7 div.sk-estimator input.sk-toggleable__control:checked~label.sk-toggleable__label {background-color: #d4ebff;}#sk-container-id-7 div.sk-label input.sk-toggleable__control:checked~label.sk-toggleable__label {background-color: #d4ebff;}#sk-container-id-7 input.sk-hidden--visually {border: 0;clip: rect(1px 1px 1px 1px);clip: rect(1px, 1px, 1px, 1px);height: 1px;margin: -1px;overflow: hidden;padding: 0;position: absolute;width: 1px;}#sk-container-id-7 div.sk-estimator {font-family: monospace;background-color: #f0f8ff;border: 1px dotted black;border-radius: 0.25em;box-sizing: border-box;margin-bottom: 0.5em;}#sk-container-id-7 div.sk-estimator:hover {background-color: #d4ebff;}#sk-container-id-7 div.sk-parallel-item::after {content: \"\";width: 100%;border-bottom: 1px solid gray;flex-grow: 1;}#sk-container-id-7 div.sk-label:hover label.sk-toggleable__label {background-color: #d4ebff;}#sk-container-id-7 div.sk-serial::before {content: \"\";position: absolute;border-left: 1px solid gray;box-sizing: border-box;top: 0;bottom: 0;left: 50%;z-index: 0;}#sk-container-id-7 div.sk-serial {display: flex;flex-direction: column;align-items: center;background-color: white;padding-right: 0.2em;padding-left: 0.2em;position: relative;}#sk-container-id-7 div.sk-item {position: relative;z-index: 1;}#sk-container-id-7 div.sk-parallel {display: flex;align-items: stretch;justify-content: center;background-color: white;position: relative;}#sk-container-id-7 div.sk-item::before, #sk-container-id-7 div.sk-parallel-item::before {content: \"\";position: absolute;border-left: 1px solid gray;box-sizing: border-box;top: 0;bottom: 0;left: 50%;z-index: -1;}#sk-container-id-7 div.sk-parallel-item {display: flex;flex-direction: column;z-index: 1;position: relative;background-color: white;}#sk-container-id-7 div.sk-parallel-item:first-child::after {align-self: flex-end;width: 50%;}#sk-container-id-7 div.sk-parallel-item:last-child::after {align-self: flex-start;width: 50%;}#sk-container-id-7 div.sk-parallel-item:only-child::after {width: 0;}#sk-container-id-7 div.sk-dashed-wrapped {border: 1px dashed gray;margin: 0 0.4em 0.5em 0.4em;box-sizing: border-box;padding-bottom: 0.4em;background-color: white;}#sk-container-id-7 div.sk-label label {font-family: monospace;font-weight: bold;display: inline-block;line-height: 1.2em;}#sk-container-id-7 div.sk-label-container {text-align: center;}#sk-container-id-7 div.sk-container {/* jupyter's `normalize.less` sets `[hidden] { display: none; }` but bootstrap.min.css set `[hidden] { display: none !important; }` so we also need the `!important` here to be able to override the default hidden behavior on the sphinx rendered scikit-learn.org. See: https://github.com/scikit-learn/scikit-learn/issues/21755 */display: inline-block !important;position: relative;}#sk-container-id-7 div.sk-text-repr-fallback {display: none;}</style><div id=\"sk-container-id-7\" class=\"sk-top-container\"><div class=\"sk-text-repr-fallback\"><pre>MLPClassifier(activation=&#x27;logistic&#x27;, hidden_layer_sizes=4, random_state=0,\n",
       "              solver=&#x27;lbfgs&#x27;)</pre><b>In a Jupyter environment, please rerun this cell to show the HTML representation or trust the notebook. <br />On GitHub, the HTML representation is unable to render, please try loading this page with nbviewer.org.</b></div><div class=\"sk-container\" hidden><div class=\"sk-item\"><div class=\"sk-estimator sk-toggleable\"><input class=\"sk-toggleable__control sk-hidden--visually\" id=\"sk-estimator-id-7\" type=\"checkbox\" checked><label for=\"sk-estimator-id-7\" class=\"sk-toggleable__label sk-toggleable__label-arrow\">MLPClassifier</label><div class=\"sk-toggleable__content\"><pre>MLPClassifier(activation=&#x27;logistic&#x27;, hidden_layer_sizes=4, random_state=0,\n",
       "              solver=&#x27;lbfgs&#x27;)</pre></div></div></div></div></div>"
      ],
      "text/plain": [
       "MLPClassifier(activation='logistic', hidden_layer_sizes=4, random_state=0,\n",
       "              solver='lbfgs')"
      ]
     },
     "execution_count": 145,
     "metadata": {},
     "output_type": "execute_result"
    }
   ],
   "source": [
    "clf.fit(X, y)"
   ]
  },
  {
   "cell_type": "code",
   "execution_count": 146,
   "metadata": {},
   "outputs": [
    {
     "data": {
      "text/plain": [
       "array([1])"
      ]
     },
     "execution_count": 146,
     "metadata": {},
     "output_type": "execute_result"
    }
   ],
   "source": [
    "clf.predict([[2.,2.]])"
   ]
  },
  {
   "cell_type": "code",
   "execution_count": 147,
   "metadata": {},
   "outputs": [
    {
     "data": {
      "text/plain": [
       "array([0])"
      ]
     },
     "execution_count": 147,
     "metadata": {},
     "output_type": "execute_result"
    }
   ],
   "source": [
    "clf.predict([[-1.,-2.]])"
   ]
  },
  {
   "cell_type": "markdown",
   "metadata": {},
   "source": [
    " A l’aide des coecients appris, complétez le dessin du MLP et vérifiez la sortie manuellement."
   ]
  },
  {
   "cell_type": "code",
   "execution_count": 150,
   "metadata": {},
   "outputs": [
    {
     "name": "stdout",
     "output_type": "stream",
     "text": [
      "[[-0.00817612 -0.03604359 -0.01721256 -0.0075178 ]\n",
      " [ 4.02907946  4.54042845 -4.36647093  2.19227334]]\n",
      "[[ 4.43970473]\n",
      " [ 6.42911055]\n",
      " [-6.50556033]\n",
      " [ 1.75916981]]\n",
      "Biais:  [array([-2.00849856, -2.08611154,  2.48127787, -1.65075374]), array([-2.72235326])]\n"
     ]
    }
   ],
   "source": [
    "intercept = clf.intercepts_\n",
    "print(clf.coefs_[0])\n",
    "print(clf.coefs_[1])\n",
    "print (\"Biais: \", intercept)"
   ]
  },
  {
   "cell_type": "markdown",
   "metadata": {},
   "source": [
    "    Complétez S en ajoutant les exemples ([1, 1], 0) et ([1, 0], 1). Il s’agit du problème du XOR.\n",
    "    Apprenez les deux réseaux dont l’architecture a été présentée en cours avec des perceptrons\n",
    "    linéaires à seuil. Les prédictions des réseaux obtenus sont-elles correctes ? Quels sont les\n",
    "    coecients et biais obtenus ?"
   ]
  },
  {
   "cell_type": "code",
   "execution_count": 158,
   "metadata": {},
   "outputs": [
    {
     "name": "stdout",
     "output_type": "stream",
     "text": [
      "predictons   = [0 1]\n",
      "\n",
      "coefficients = [[-5.59003315  4.28744275  6.63501236  0.25480379]\n",
      " [ 6.66529983  3.88553006 -4.66393444 -0.61281728]]\n",
      " [[-13.84256542]\n",
      " [  4.97626697]\n",
      " [-13.89507944]\n",
      " [  0.78475093]]\n",
      "\n",
      "biais = [array([ 2.91299768, -1.06892002,  1.94670147, -4.45072613]), array([16.3974844])]\n",
      "\n"
     ]
    }
   ],
   "source": [
    "X = [[0, 0], [0, 1],[1,1],[1,0]] \n",
    "y = [0, 1, 0, 1]\n",
    "clf = MLPClassifier(solver='lbfgs',hidden_layer_sizes = (4), activation='logistic',random_state =0)\n",
    "clf.fit(X, y)\n",
    "predictons = clf.predict([[2.,2.],[-1.,-2.]])\n",
    "intercept = clf.intercepts_\n",
    "print(f\"predictons   = {predictons}\\n\")\n",
    "print(f\"coefficients = {clf.coefs_[0]}\\n {clf.coefs_[1]}\\n\")\n",
    "print(f\"biais = {intercept}\\n\")"
   ]
  },
  {
   "cell_type": "markdown",
   "metadata": {},
   "source": [
    "**graphe**\n",
    "\n",
    "Oui, les prédictions des réseaux obtenus sont correctes. \n"
   ]
  },
  {
   "cell_type": "markdown",
   "metadata": {},
   "source": [
    "    Soit S' = {([0, 0], [0, 1]),([1, 1], [1, 1])}. Nous cherchons à apprendre un mod`ele f(x) : R2 !\n",
    "    {0, 1}2 qui, à chaque exemple, associe deux sorties booléennes distinctes. Au vu de S', quelles\n",
    "    sont les deux fonctions booléennes que nous cherchons à apprendre ? Créez ce jeu de données\n",
    "    (X et y) en utilisant les tableaux de numpy."
   ]
  },
  {
   "cell_type": "code",
   "execution_count": 153,
   "metadata": {},
   "outputs": [
    {
     "name": "stdout",
     "output_type": "stream",
     "text": [
      "predictons   = [[1 1]\n",
      " [0 1]]\n",
      "\n",
      "coefficients = [[ 0.33719617 -2.37912862 -2.4980991   2.6014669 ]\n",
      " [ 0.325494   -2.38560763 -2.51354284  2.63390062]]\n",
      "\n",
      "biais = [array([ 1.77479554,  2.26297151,  2.44486328, -2.60767218]), array([ 1.43517424, 10.4392375 ])]\n",
      "\n"
     ]
    }
   ],
   "source": [
    "X = [[0, 0],[1, 1]]\n",
    "Y = [[0, 1],[1, 1]]\n",
    "clf = MLPClassifier(solver='lbfgs',hidden_layer_sizes = (4), activation='logistic',random_state =0) \n",
    "clf.fit(X, Y)\n",
    "predictons = clf.predict([[2.,2.],[-1.,-2.]])\n",
    "intercept = clf.intercepts_\n",
    "print(f\"predictons   = {predictons}\\n\")\n",
    "print(f\"coefficients = {clf.coefs_[0]}\\n\")\n",
    "print(f\"biais = {intercept}\\n\")"
   ]
  },
  {
   "cell_type": "markdown",
   "metadata": {},
   "source": [
    "Et ensuite, les deux fonctions booléennes que nous cherchons à apprendre sont : \n"
   ]
  },
  {
   "cell_type": "markdown",
   "metadata": {},
   "source": [
    "### 1.2.2 Travail sur le jeu de données Iris"
   ]
  },
  {
   "cell_type": "code",
   "execution_count": 168,
   "metadata": {},
   "outputs": [],
   "source": [
    "from sklearn.datasets import load_iris\n",
    "iris = load_iris()\n",
    "X, y = iris.data, iris.target"
   ]
  },
  {
   "cell_type": "markdown",
   "metadata": {},
   "source": [
    "Avant de construire le modèle, séparons le jeu de données en deux : 70% pour l’apprentissage, 30% pour le test."
   ]
  },
  {
   "cell_type": "code",
   "execution_count": 123,
   "metadata": {},
   "outputs": [],
   "source": [
    "from sklearn.model_selection import train_test_split\n",
    "X_train, X_test, y_train, y_test = train_test_split(X, y, train_size=0.7, random_state=0)"
   ]
  },
  {
   "cell_type": "markdown",
   "metadata": {},
   "source": [
    "    2. Apprendre cinq modèles de classification des données Iris, avec des réseaux qui ont respectivement de 1 à 5 couches cachées, et des tailles de couches entre 10 et 300 au choix. Quelles\n",
    "    sont les performances en taux de bonne classification et en temps d’apprentissage obtenus\n",
    "    pour chaque modèle ?"
   ]
  },
  {
   "cell_type": "code",
   "execution_count": 134,
   "metadata": {},
   "outputs": [
    {
     "name": "stdout",
     "output_type": "stream",
     "text": [
      "Modèle numéro 1\n",
      " ayant 1 couches cachées de tailles: (45,)\n",
      " Temps d’apprentissage de : 0.03276205062866211\n",
      " et une Accuarcy de  : 0.7111111111111111\n",
      "Modèle numéro 2\n",
      " ayant 2 couches cachées de tailles: (22, 35)\n",
      " Temps d’apprentissage de : 0.04384493827819824\n",
      " et une Accuarcy de  : 0.8888888888888888\n",
      "Modèle numéro 3\n",
      " ayant 3 couches cachées de tailles: (68, 176, 73)\n",
      " Temps d’apprentissage de : 0.49938511848449707\n",
      " et une Accuarcy de  : 0.9777777777777777\n",
      "Modèle numéro 4\n",
      " ayant 4 couches cachées de tailles: (282, 143, 44, 245)\n",
      " Temps d’apprentissage de : 0.5489070415496826\n",
      " et une Accuarcy de  : 0.9777777777777777\n",
      "Modèle numéro 5\n",
      " ayant 5 couches cachées de tailles: (180, 125, 156, 138, 28)\n",
      " Temps d’apprentissage de : 0.2564563751220703\n",
      " et une Accuarcy de  : 0.9777777777777777\n"
     ]
    }
   ],
   "source": [
    "import random\n",
    "import time\n",
    "from sklearn.metrics import accuracy_score\n",
    "for i in range(1,6):\n",
    "    hidden_layer_sizes = []\n",
    "    for j in range(i):\n",
    "        hidden_layer_sizes.append(random.randint(10,300))\n",
    "    hidden_layer_sizes = tuple(hidden_layer_sizes)\n",
    "    clf = MLPClassifier(hidden_layer_sizes = hidden_layer_sizes) \n",
    "    start = time.time()\n",
    "    clf.fit(X_train, y_train)\n",
    "    y_pred = clf.predict(X_test)\n",
    "    print(f'Modèle numéro {i}\\n ayant {i} couches cachées de tailles: {hidden_layer_sizes}\\n Temps d’apprentissage de : {time.time() - start}\\n et une Accuarcy de  : {accuracy_score(y_test, y_pred)}')"
   ]
  },
  {
   "cell_type": "markdown",
   "metadata": {},
   "source": [
    "Comparer les résultats avec une classifieur à noyau de type SVM avec noyaux polynomial :"
   ]
  },
  {
   "cell_type": "code",
   "execution_count": 125,
   "metadata": {},
   "outputs": [
    {
     "data": {
      "text/plain": [
       "0.9777777777777777"
      ]
     },
     "execution_count": 125,
     "metadata": {},
     "output_type": "execute_result"
    }
   ],
   "source": [
    "from sklearn import svm\n",
    "clsvm = svm.SVC(kernel='poly')\n",
    "clsvm.fit(X_train, y_train)\n",
    "clsvm.score(X_test, y_test)"
   ]
  },
  {
   "cell_type": "markdown",
   "metadata": {},
   "source": [
    "Déterminez, pour chaque attribut d’entrées, sa valeur moyenne et l’écart-type de sa distribution.\n",
    "Une astuce classique lorsque l’on programme des réseaux de neurones, est de précéder l’apprentissage\n",
    "du modèle par la normalisation des valeurs d’entrées. Le principe est de ramener toutes les entrées\n",
    "dans un même intervalle fermé, tout en respectant les distributions de probabilités de ces entrées. Ce\n",
    "processus de normalisation permet de considérer toutes ces valeurs à égale importance. Attention,\n",
    "la normalisation doit se faire autant sur les données d’apprentissage que sur les données de test."
   ]
  },
  {
   "cell_type": "code",
   "execution_count": 169,
   "metadata": {},
   "outputs": [
    {
     "name": "stdout",
     "output_type": "stream",
     "text": [
      "la longueur moyenne des sépales est :5.843333333333334\n",
      "\n",
      "la largeur moyenne des sépales est :3.0573333333333332\n",
      "\n",
      "la longueur moyenne des pétales est :3.758\n",
      "\n",
      "la largeur moyenne des pétales est :1.1993333333333334\n",
      "\n"
     ]
    }
   ],
   "source": [
    "import statistics\n",
    "Ls = statistics.mean(X[:,0])\n",
    "ls = statistics.mean(X[:,1])\n",
    "Lp = statistics.mean(X[:,2])\n",
    "lp = statistics.mean(X[:,3])\n",
    "print(f\"la longueur moyenne des sépales est :{Ls}\\n\")\n",
    "print(f\"la largeur moyenne des sépales est :{ls}\\n\")\n",
    "print(f\"la longueur moyenne des pétales est :{Lp}\\n\")\n",
    "print(f\"la largeur moyenne des pétales est :{lp}\\n\")"
   ]
  },
  {
   "cell_type": "code",
   "execution_count": 170,
   "metadata": {},
   "outputs": [
    {
     "name": "stdout",
     "output_type": "stream",
     "text": [
      "Ecart-type de la longueur  des sépales est :0.8280661279778629\n",
      "\n",
      "Ecart-type de la largeur  des sépales est :0.4358662849366982\n",
      "\n",
      "Ecart-type de la longueur  des pétales est :1.7652982332594664\n",
      "\n",
      "Ecart-type de la largeur  des pétales est :0.7622376689603465\n",
      "\n"
     ]
    }
   ],
   "source": [
    "import statistics\n",
    "Ls = statistics.stdev(X[:,0])\n",
    "ls = statistics.stdev(X[:,1])\n",
    "Lp = statistics.stdev(X[:,2])\n",
    "lp = statistics.stdev(X[:,3])\n",
    "print(f\"Ecart-type de la longueur  des sépales est :{Ls}\\n\")\n",
    "print(f\"Ecart-type de la largeur  des sépales est :{ls}\\n\")\n",
    "print(f\"Ecart-type de la longueur  des pétales est :{Lp}\\n\")\n",
    "print(f\"Ecart-type de la largeur  des pétales est :{lp}\\n\")"
   ]
  },
  {
   "cell_type": "markdown",
   "metadata": {},
   "source": [
    "    1. Normaliser les données vers l’intervalle réel [0.,1.]. Cela peut se faire par quelques lignes\n",
    "    de programmation, colonne par colonne de la matrice d’entrée, ou en utilisant la classe\n",
    "    StandardScaler du package preprocessing. Voici un exemple d’utilisation issu de la documentation de sklearn :"
   ]
  },
  {
   "cell_type": "code",
   "execution_count": 133,
   "metadata": {},
   "outputs": [],
   "source": [
    "from sklearn.preprocessing import StandardScaler\n",
    "scaler = StandardScaler()\n",
    "scaler.fit(X_train)\n",
    "X_train_scaler = scaler.transform(X_train)\n",
    "X_test_scaler = scaler.transform(X_test)"
   ]
  },
  {
   "cell_type": "markdown",
   "metadata": {},
   "source": [
    "    2. Re-apprendre et tester les cinq modèles MLP et le SVM après avoir normalisé les données en\n",
    "    entrées. Observez-vous des améliorations ?"
   ]
  },
  {
   "cell_type": "code",
   "execution_count": 139,
   "metadata": {},
   "outputs": [
    {
     "name": "stdout",
     "output_type": "stream",
     "text": [
      "Modèle (45,)\n",
      " Accuarcy : 0.9111111111111111\n",
      "Modèle (22, 35)\n",
      " Accuarcy : 0.9777777777777777\n",
      "Modèle (68, 176, 73)\n",
      " Accuarcy : 0.9777777777777777\n",
      "Modèle (282, 143, 44, 245)\n",
      " Accuarcy : 0.9777777777777777\n",
      "Modèle (180, 125, 156, 138, 28)\n",
      " Accuarcy : 0.9777777777777777\n"
     ]
    }
   ],
   "source": [
    "hidden_layer_sizes = (45,)\n",
    "start = time.time()\n",
    "mlp = MLPClassifier(hidden_layer_sizes = hidden_layer_sizes)\n",
    "mlp. fit(X_train_scaler, y_train)\n",
    "y_pred = mlp.predict(X_test_scaler)\n",
    "print(f'Modèle {hidden_layer_sizes}\\n Accuarcy : {accuracy_score(y_test, y_pred)}')\n",
    "\n",
    "\n",
    "hidden_layer_sizes = (22, 35)\n",
    "start = time.time()\n",
    "mlp = MLPClassifier(hidden_layer_sizes = hidden_layer_sizes)\n",
    "mlp. fit(X_train_scaler, y_train)\n",
    "y_pred = mlp.predict(X_test_scaler)\n",
    "print(f'Modèle {hidden_layer_sizes}\\n Accuarcy : {accuracy_score(y_test, y_pred)}')\n",
    "\n",
    "\n",
    "hidden_layer_sizes = (68, 176, 73)\n",
    "start = time.time()\n",
    "mlp = MLPClassifier(hidden_layer_sizes = hidden_layer_sizes)\n",
    "mlp. fit(X_train_scaler, y_train)\n",
    "y_pred = mlp.predict(X_test_scaler)\n",
    "print(f'Modèle {hidden_layer_sizes}\\n Accuarcy : {accuracy_score(y_test, y_pred)}')\n",
    "\n",
    "\n",
    "hidden_layer_sizes = (282, 143, 44, 245)\n",
    "start = time.time()\n",
    "mlp = MLPClassifier(hidden_layer_sizes = hidden_layer_sizes)\n",
    "mlp. fit(X_train_scaler, y_train)\n",
    "y_pred = mlp.predict(X_test_scaler)\n",
    "print(f'Modèle {hidden_layer_sizes}\\n Accuarcy : {accuracy_score(y_test, y_pred)}')\n",
    "\n",
    "\n",
    "hidden_layer_sizes = (180, 125, 156, 138, 28)\n",
    "start = time.time()\n",
    "mlp = MLPClassifier(hidden_layer_sizes = hidden_layer_sizes)\n",
    "mlp. fit(X_train_scaler, y_train)\n",
    "y_pred = mlp.predict(X_test_scaler)\n",
    "print(f'Modèle {hidden_layer_sizes}\\n Accuarcy : {accuracy_score(y_test, y_pred)}')\n",
    "\n"
   ]
  },
  {
   "cell_type": "code",
   "execution_count": 140,
   "metadata": {},
   "outputs": [
    {
     "data": {
      "text/plain": [
       "0.8888888888888888"
      ]
     },
     "execution_count": 140,
     "metadata": {},
     "output_type": "execute_result"
    }
   ],
   "source": [
    "from sklearn import svm\n",
    "clsvm = svm.SVC(kernel='poly')\n",
    "clsvm.fit(X_train_scaler, y_train)\n",
    "clsvm.score(X_test_scaler, y_test)"
   ]
  },
  {
   "cell_type": "markdown",
   "metadata": {},
   "source": [
    "Pour terminer, nous allons maintenant étudier la convergence des algorithmes d’optimisation disponibles : L-BFGS, SGD et Adam. L’algorithme SGD permet notamment d’adapter le pas d’apprentissage lors de la descente du gradient (paramètre ⌫ dans la formulation mathématique). On\n",
    "retrouve cette particularité avec le solveur Adam. Dans ces deux méthodes, la donnée du pas initial\n",
    "peut alors s’avérer importante : learning rate init.\n",
    "\n",
    "L’algorithme L-BFGS est, quant à lui, réputé pour converger rapidement vers une bonne solution\n",
    "quand le jeu de données est relativement petit."
   ]
  },
  {
   "cell_type": "markdown",
   "metadata": {},
   "source": [
    "    1. Pour chacun des cinq modèles précédemment appris après normalisation, et pour chaque\n",
    "    solveur disponible, indiquez : le temps de convergence, le nombre d’itérations pour converger, et les performances du modèle appris. Résumez ces informations au sein d’un tableau récapitulatif."
   ]
  },
  {
   "cell_type": "markdown",
   "metadata": {},
   "source": [
    "## 2 Travail sur le jeu de données MNIST"
   ]
  },
  {
   "cell_type": "markdown",
   "metadata": {},
   "source": [
    "Il est possible de le charger sous sklearn avec l’instruction mns = fetch mldata(“MNIST original”)\n",
    "du package datasets."
   ]
  },
  {
   "cell_type": "code",
   "execution_count": 160,
   "metadata": {},
   "outputs": [
    {
     "name": "stdout",
     "output_type": "stream",
     "text": [
      "(70000, 784) (70000,)\n"
     ]
    }
   ],
   "source": [
    "from sklearn.datasets import fetch_openml\n",
    "import warnings\n",
    "warnings.filterwarnings(\"ignore\")\n",
    "X, y = fetch_openml('mnist_784', version=1, return_X_y=True, as_frame=False)\n",
    "print(X.shape, y.shape)"
   ]
  },
  {
   "cell_type": "markdown",
   "metadata": {},
   "source": [
    "Commençons par visualiser les données"
   ]
  },
  {
   "cell_type": "markdown",
   "metadata": {},
   "source": [
    "Commençons par visualiser les données Visualisons maintenant les images avec leurs labels."
   ]
  },
  {
   "cell_type": "code",
   "execution_count": 161,
   "metadata": {},
   "outputs": [
    {
     "data": {
      "image/png": "[encoded data removed]",
      "text/plain": [
       "<Figure size 800x800 with 20 Axes>"
      ]
     },
     "metadata": {},
     "output_type": "display_data"
    }
   ],
   "source": [
    "import matplotlib.pyplot as plt\n",
    "import numpy as np\n",
    "def plot_digits(img, y):\n",
    "    cols = min(5, len(img))\n",
    "    rows = len(img) // cols\n",
    "    fig = plt.figure(figsize=(8,8))\n",
    "    for i in range(rows*cols):\n",
    "        ax = fig.add_subplot(rows, cols, i+1)\n",
    "        plt.axis('off')\n",
    "        plt.imshow(img[i], cmap = 'gray')\n",
    "        ax.set_title(y[i])\n",
    "    plt.show()\n",
    "\n",
    "a = np.random.permutation(len(X))\n",
    "a = a[:20]\n",
    "plot_digits(X[a].reshape(-1, 28, 28), y[a])"
   ]
  },
  {
   "cell_type": "markdown",
   "metadata": {},
   "source": [
    "Par la suite, les apprentissages se feront sur les 60000 premiers exemples, et\n",
    "les tests se feront sur les exemples restants dans l’échantillon chargé. Il s’agit du protocole utilisé\n",
    "par tous les chercheurs testant eurs algorithmes sur MNIST."
   ]
  },
  {
   "cell_type": "code",
   "execution_count": 162,
   "metadata": {},
   "outputs": [],
   "source": [
    "X_train, X_test = X[:60000], X[60000:]\n",
    "y_train, y_test = y[:60000], y[60000:]"
   ]
  },
  {
   "cell_type": "markdown",
   "metadata": {},
   "source": [
    "En faisant varier les différents hyper-paramètres du modèle, avec ou sans pre-processing, et en\n",
    "utilisant une GridSearch, parvenez-vous à battre les quelques références ci-après ? Indiquez le temps\n",
    "d’apprentissage du modèle et tous ses hyper-paramètres et paramètres."
   ]
  },
  {
   "cell_type": "markdown",
   "metadata": {},
   "source": [
    "### 0.5 Sans pre-processing"
   ]
  },
  {
   "cell_type": "code",
   "execution_count": 59,
   "metadata": {},
   "outputs": [
    {
     "name": "stdout",
     "output_type": "stream",
     "text": [
      "Temps d’apprentissage du modèle : 73.03856205940247\n"
     ]
    }
   ],
   "source": [
    "from sklearn.neural_network import MLPClassifier\n",
    "import time\n",
    "start = time.time()\n",
    "mlp = MLPClassifier()\n",
    "mlp.fit(X_train, y_train)\n",
    "print(f\"Temps d’apprentissage du modèle : {time.time() - start}\")"
   ]
  },
  {
   "cell_type": "code",
   "execution_count": 60,
   "metadata": {},
   "outputs": [
    {
     "name": "stdout",
     "output_type": "stream",
     "text": [
      "Accuracy score : 0.9642\n"
     ]
    }
   ],
   "source": [
    "from sklearn.metrics import accuracy_score\n",
    "y_pred = mlp.predict(X_test)\n",
    "print(f'Accuracy score : {accuracy_score(y_test, y_pred)}')"
   ]
  },
  {
   "cell_type": "markdown",
   "metadata": {},
   "source": [
    "### 0.6 Avec pre-processing"
   ]
  },
  {
   "cell_type": "markdown",
   "metadata": {},
   "source": [
    "Pour le pre-processing, nous allons standardiser les données :"
   ]
  },
  {
   "cell_type": "code",
   "execution_count": 166,
   "metadata": {},
   "outputs": [
    {
     "name": "stdout",
     "output_type": "stream",
     "text": [
      "Temps d’apprentissage du modèle : 52.315818309783936\n",
      "Accuracy score : 0.974\n"
     ]
    }
   ],
   "source": [
    "from sklearn.preprocessing import StandardScaler\n",
    "scaler = StandardScaler()\n",
    "X_train_scaler = scaler.fit_transform(X_train)\n",
    "X_test_scaler = scaler.fit_transform(X_test)\n",
    "start = time.time()\n",
    "mlp = MLPClassifier()\n",
    "mlp. fit(X_train_scaler, y_train)\n",
    "y_pred = mlp.predict(X_test_scaler)\n",
    "print(f\"Temps d’apprentissage du modèle : {time.time() - start}\")\n",
    "print(f'Accuracy score : {accuracy_score(y_test, y_pred)}')"
   ]
  },
  {
   "cell_type": "markdown",
   "metadata": {},
   "source": [
    "### 0.7 GridSearch"
   ]
  },
  {
   "cell_type": "code",
   "execution_count": 78,
   "metadata": {},
   "outputs": [
    {
     "name": "stdout",
     "output_type": "stream",
     "text": [
      "Temps d’apprentissage du modèle : 267.04816937446594\n"
     ]
    }
   ],
   "source": [
    "start = time.time()\n",
    "mlp = MLPClassifier(alpha=1e-6, hidden_layer_sizes= (500,),solver= 'adam')\n",
    "mlp.fit(X_train, y_train)\n",
    "print(f'Temps d’apprentissage du modèle : {time.time() - start}')"
   ]
  },
  {
   "cell_type": "code",
   "execution_count": 77,
   "metadata": {},
   "outputs": [
    {
     "name": "stdout",
     "output_type": "stream",
     "text": [
      "Accuracy score : 0.9764\n"
     ]
    }
   ],
   "source": [
    "y_pred = mlp.predict(X_test)\n",
    "print(f'Accuracy score : {accuracy_score(y_test, y_pred)}')"
   ]
  },
  {
   "cell_type": "code",
   "execution_count": null,
   "metadata": {},
   "outputs": [],
   "source": []
  }
 ],
 "metadata": {
  "kernelspec": {
   "display_name": "Python 3.10.5 64-bit ('3.10.5')",
   "language": "python",
   "name": "python3"
  },
  "language_info": {
   "codemirror_mode": {
    "name": "ipython",
    "version": 3
   },
   "file_extension": ".py",
   "mimetype": "text/x-python",
   "name": "python",
   "nbconvert_exporter": "python",
   "pygments_lexer": "ipython3",
   "version": "3.10.5"
  },
  "orig_nbformat": 4,
  "vscode": {
   "interpreter": {
    "hash": "a413b3c105d671130c2d8ec3690e0fcce3ed53808acf7a2e6423b50819a6627c"
   }
  }
 },
 "nbformat": 4,
 "nbformat_minor": 2
}
